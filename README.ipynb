{
 "cells": [
  {
   "cell_type": "markdown",
   "id": "c6d478af-e6f8-4260-98d4-eb4c8326efd1",
   "metadata": {},
   "source": [
    "# **Molecular Docking integrated in Jupyter Notebooks**\n",
    "\n",
    "[![DOI](https://zenodo.org/badge/405159870.svg)](https://zenodo.org/badge/latestdoi/405159870)\n",
    "\n",
    "[**Description**](#description) | [**Citation**](#citation) | [**Installation**](#installation) | [**Examples**](#examples) | [**Limitations**](#limitations) | [**License**](#license)"
   ]
  },
  {
   "cell_type": "markdown",
   "id": "e942fe53-fe5f-4a93-9945-1f6fa23729d7",
   "metadata": {},
   "source": [
    "![logo](img/logo.jpg)"
   ]
  },
  {
   "cell_type": "markdown",
   "id": "2ee63cfc-e808-446f-a3db-9b477bcedf1b",
   "metadata": {},
   "source": [
    "## Table of content\n",
    "\n",
    "- [**Description**](#description)\n",
    "\n",
    "- [**Installation**](#installation)\n",
    "\n",
    "- [**Requirements**](#requirements)\n",
    "\n",
    "- [**Limitations**](#limitations)\n",
    "\n",
    "- [**Examples**](#examples)\n",
    "\n",
    "- [**Citation**](#citation)\n",
    "\n",
    "- [**License**](#license) \n"
   ]
  },
  {
   "cell_type": "markdown",
   "id": "ab58141c-9515-4087-8027-0dce672b92da",
   "metadata": {},
   "source": [
    "## Description\n",
    "\n",
    "**Jupyter Dock is a set of Jupyter Notebooks for performing molecular docking protocols interactively, as well as visualizing, converting file formats and analyzing the results.** <br><br>\n",
    "\n",
    "**See Jupyter Docks in action in my personal website: [chem-workflows](https://chem-workflows.com/)** <br><br>\n",
    "\n",
    "These notebooks are Python 3 compatible. Each protocol and Jupyter notebook has its own test folder for testing and reproducibility evaluation.\n",
    "\n",
    "For all notebooks, the demonstration includes the use of AutoDock Vina and Ledock. When available, some alternatives are mentioned in the protocol.\n",
    "\n",
    "The notebooks includes whole protocols for:\n",
    "\n",
    "**1. Molecular Docking**\n",
    "> For any new user, this is a good place to start. Jupyter Docks' main stages for molecular docking, as well as all functions, methods and codes are described here along with brief explanations, hints, and warnings.\n",
    "\n",
    "**2. Virtual Screening**\n",
    "> Interested in docking multiple ligands into a single target site? This is what you require. This protocol covers all steps from ligand preparation to docking pose visualization in the target site of interest.\n",
    "\n",
    "**3. Blind Docking**\n",
    "> Do you want to dock multiple ligands into whole target surface and/or its pockets? This protocol demonstrates the entire process of pocket search and their use as potential organic molecule binding sites.\n",
    "\n",
    "**4. Reverse Docking / Target fishing)**\n",
    "> Interested in docking one or a few molecules into a set of proteins to identify the most promising target(s)? This notebook covers all of the steps required to achieve such a goal in a condensed manner, making the process seem like a walk in the park.\n",
    "\n",
    "**5. Docking Analysis**\n",
    "> Have you completed your docking experiments with Jupyter Dock or another approach and want to conduct a rational analysis? You've come to the right place. This notebook summarizes the most common docking analysis techniques, including score comparisons, z-score calculation between softwares, pose clustering, molecular interactions mapping, and more.\n",
    "\n",
    "\n",
    "Question about usage or troubleshooting? Please leave a comment here"
   ]
  },
  {
   "cell_type": "markdown",
   "id": "c6a53dc2-cd13-444f-bb8b-31c501b17bfa",
   "metadata": {},
   "source": [
    "## Installation \n",
    "\n",
    "- **Available as GitHub repo:**\n",
    "\n",
    "```\n",
    "$git clone https://github.com/AngelRuizMoreno/Jupyter_Dock.git\n",
    "$cd Jupyter_Dock\n",
    "$conda env create -f Jupyter_Dock.yml\n",
    "```\n",
    "\n",
    "After installing the prerequisites, you can activate the conda environment and run/modify the Jupyter Notebooks.\n",
    "\n",
    "\n",
    "- **GoogleColab:**\n",
    "\n",
    "```\n",
    "Not yet available.\n",
    "```"
   ]
  },
  {
   "cell_type": "markdown",
   "id": "9430aeb4-6f7b-44ea-aca1-9ac82570e5e3",
   "metadata": {},
   "source": [
    "## Requirements\n",
    "\n",
    "Jupyter Dock is reliant on a variety of academic software. The Jupyter Dock.yaml file contains all the tools and dependencies, but the following are some of the most noticeable:\n",
    "\n",
    "- [Autodock Vina](https://autodock-vina.readthedocs.io/en/latest/) \n",
    "- [AutoDock Tools](http://autodock.scripps.edu/resources/adt)\n",
    "- [LeDock and LePro](http://www.lephar.com/software.htm)\n",
    "- [Pymol API](https://pymol.org/2/)\n",
    "- [OpenBabel](http://openbabel.org/wiki/Main_Page)\n",
    "- [RDKit](https://www.rdkit.org/)\n",
    "- [py3Dmol](https://3dmol.csb.pitt.edu/) \n",
    "- [PDBFixer](https://htmlpreview.github.io/?https://github.com/openmm/pdbfixer/blob/master/Manual.html)\n",
    "- [MDAnalysis](https://www.mdanalysis.org/)\n",
    "- [ProLif](https://prolif.readthedocs.io/en/latest/index.html)\n",
    "- [Fpocket](http://fpocket.sourceforge.net/)\n",
    "- [Meeko](https://pypi.org/project/meeko/)\n",
    "- [Smina](https://sourceforge.net/projects/smina/)"
   ]
  },
  {
   "cell_type": "markdown",
   "id": "c8e8a7c1-1402-4edf-8db5-a412a2bf8e20",
   "metadata": {},
   "source": [
    "## Limitations\n",
    "\n",
    "Jupyter Dock's initial goal was to provide a set of pythonic protocols for molecular docking. Nonetheless, there is a dearth of docking tools in Python for all of the steps and protocols (i.e. pocket search for blind docking). Furthermore, the majority of well-known and widely used molecular docking softwares have been developed as stand-alone executables or as components of software suites. As a result, Jupyter Dock evolved into a notebook, attempting to organize and compile the tools required for the rational implementation of molecular docking.\n",
    "\n",
    "The following are the main drawbacks of this approach:\n",
    "\n",
    "- The AutoDock Tools binary files \"prepare_rotein\" and \"prepare_lgand are still missing for MacOs.\n",
    "\n",
    "- There is no guarantee that these jupyter notebooks will run on Windows. The alternative for these users would be to run Jupyter Dock through the Windows Subsystem for Linux (WSL)\n",
    "\n",
    "    > Actually, I built Jupyter Dock in a Xiomi Mi Laptop Air using the WSL.\n",
    "    \n",
    "- Ubuntu 18.4 (x86 64) was used to compile the binary files for fpocket, prepare protein, and prepare ligand. As a result, they can function differently in other operating systems and architectures."
   ]
  },
  {
   "cell_type": "markdown",
   "id": "b0cda790-83fd-46c7-b05b-54faa0bc19c5",
   "metadata": {},
   "source": [
    "## Examples\n",
    "\n",
    "\n",
    "### Docking powered by AutoDock Tools and LeDock\n",
    "\n",
    "<img src=\"img/dock.jpg\" width=\"400\" height=\"400\" />\n",
    "\n",
    "### 3D visualization of Docking results powered by py3Dmol\n",
    "\n",
    "<img src=\"img/md.jpg\" width=\"400\" height=\"400\" />\n",
    "\n",
    "### 2D interaction maps powered by ProLif\n",
    "\n",
    "<img src=\"img/2d.jpg\" width=\"400\" height=\"400\" />\n",
    "\n",
    "\n",
    "### Pocket search powered by Fpocket\n",
    "\n",
    "<img src=\"img/pocket.jpg\" width=\"400\" height=\"400\" />"
   ]
  },
  {
   "cell_type": "markdown",
   "id": "696f484c-7179-4cc7-900f-bbc5b5db3657",
   "metadata": {},
   "source": [
    "## Citation\n",
    "\n",
    "If you use these notebooks, please credit this repository and the required tools as follows:\n",
    "\n",
    "1. **Jupyter Dock**\n",
    "    > Ruiz-Moreno A.J. Jupyter Dock: Molecular Docking integrated in Jupyter Notebooks. https://doi.org/10.5281/zenodo.5514956\n",
    "\n",
    "1. **Autodock Vina** \n",
    "    > Eberhardt, J., Santos-Martins, D., Tillack, A.F., Forli, S. (2021). AutoDock Vina 1.2.0: New Docking Methods, Expanded Force Field, and Python Bindings. Journal of Chemical Information and Modeling.\n",
    "\n",
    "    > Trott, O., & Olson, A. J. (2010). AutoDock Vina: improving the speed and accuracy of docking with a new scoring function, efficient optimization, and multithreading. Journal of computational chemistry, 31(2), 455-461.\n",
    "\n",
    "1. **LeDock** \n",
    "    > Wang Z, Sun H, Yao X, Li D, Xu L, Li Y, et al. Comprehensive evaluation of ten docking programs on a diverse set of protein–ligand complexes: the prediction accuracy of sampling power and scoring power. Phys Chem Chem Phys. 2016;18: 12964–12975. https://doi.org/10.1039/C6CP01555G.\n",
    " \n",
    "1. **AutoDock Tools**\n",
    "    > Morris, G. M., Huey, R., Lindstrom, W., Sanner, M. F., Belew, R. K., Goodsell, D. S., & Olson, A. J. (2009). AutoDock4 and AutoDockTools4: Automated docking with selective receptor flexibility. Journal of computational chemistry, 30(16), 2785–2791. https://doi.org/10.1002/jcc.21256.\n",
    "\n",
    "1. **Pymol API**\n",
    "    > The PyMOL Molecular Graphics System, Version 1.2r3pre, Schrödinger, LLC.\n",
    "    \n",
    "1. **OpenBabel**\n",
    "    > O'Boyle, N.M., Banck, M., James, C.A. et al. Open Babel: An open chemical toolbox. J Cheminform 3, 33 (2011). https://doi.org/10.1186/1758-2946-3-33.\n",
    "\n",
    "1. **RDKit**\n",
    "    > RDKit: Open-source cheminformatics; http://www.rdkit.org\n",
    "\n",
    "1. **py3Dmol**\n",
    "    >Keshavan Seshadri, Peng Liu, and David Ryan Koes. Journal of Chemical Education 2020 97 (10), 3872-3876. https://doi.org/10.1021/acs.jchemed.0c00579.\n",
    "    \n",
    "1. **PDBFixer**\n",
    "    > P. Eastman, M. S. Friedrichs, J. D. Chodera, R. J. Radmer, C. M. Bruns, J. P. Ku, K. A. Beauchamp, T. J. Lane, L.-P. Wang, D. Shukla, T. Tye, M. Houston, T. Stich, C. Klein, M. R. Shirts, and V. S. Pande. 2013. OpenMM 4: A Reusable, Extensible, Hardware Independent Library for High Performance Molecular Simulation. Journal of Chemical Theory and Computation. ACS Publications. 9(1): 461-469.\n",
    "\n",
    "1. **MDAnalysis**\n",
    "    > R. J. Gowers, M. Linke, J. Barnoud, T. J. E. Reddy, M. N. Melo, S. L. Seyler, D. L. Dotson, J. Domanski, S. Buchoux, I. M. Kenney, and O. Beckstein. MDAnalysis: A Python package for the rapid analysis of molecular dynamics simulations. In S. Benthall and S. Rostrup, editors, Proceedings of the 15th Python in Science Conference, pages 98-105, Austin, TX, 2016. SciPy, doi:10.25080/majora-629e541a-00e.\n",
    "    \n",
    "    > N. Michaud-Agrawal, E. J. Denning, T. B. Woolf, and O. Beckstein. MDAnalysis: A Toolkit for the Analysis of Molecular Dynamics Simulations. J. Comput. Chem. 32 (2011), 2319-2327, doi:10.1002/jcc.21787. PMCID:PMC3144279.\n",
    "\n",
    "1. **ProLif**\n",
    "    > chemosim-lab/ProLIF: v0.3.3 - 2021-06-11.https://doi.org/10.5281/zenodo.4386984.\n",
    "    \n",
    "1. **Fpocket**\n",
    "    >Le Guilloux, V., Schmidtke, P. & Tuffery, P. Fpocket: An open source platform for ligand pocket detection. BMC Bioinformatics 10, 168 (2009). https://doi.org/10.1186/1471-2105-10-168.\n",
    "\n",
    "1. **Smina**\n",
    "    > Koes, D. R., Baumgartner, M. P., & Camacho, C. J. (2013). Lessons learned in empirical scoring with smina from the CSAR 2011 benchmarking exercise. Journal of chemical information and modeling, 53(8), 1893–1904. https://doi.org/10.1021/ci300604z"
   ]
  },
  {
   "cell_type": "markdown",
   "id": "3d4610ba-0d7d-4af4-960e-ebd7c624eead",
   "metadata": {},
   "source": [
    "## License\n",
    "These notebooks are under MIT, see the LICENSE file for details."
   ]
  }
 ],
 "metadata": {
  "kernelspec": {
   "display_name": "AnalysisMD",
   "language": "python",
   "name": "analysismd"
  },
  "language_info": {
   "codemirror_mode": {
    "name": "ipython",
    "version": 3
   },
   "file_extension": ".py",
   "mimetype": "text/x-python",
   "name": "python",
   "nbconvert_exporter": "python",
   "pygments_lexer": "ipython3",
   "version": "3.7.10"
  }
 },
 "nbformat": 4,
 "nbformat_minor": 5
}
