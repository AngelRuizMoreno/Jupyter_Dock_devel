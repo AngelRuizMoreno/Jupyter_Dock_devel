{
 "cells": [
  {
   "cell_type": "code",
   "execution_count": 2,
   "id": "cb387356-ee5f-4182-92bb-505db3bd5232",
   "metadata": {},
   "outputs": [],
   "source": [
    "from rdkit import Chem\n",
    "from rdkit.Chem import rdFMCS, AllChem, rdMolAlign\n",
    "\n",
    "import numpy as np\n",
    "\n",
    "import sys, os, random, math\n",
    "\n",
    "import warnings\n",
    "warnings.filterwarnings(\"ignore\")\n",
    "\n",
    "%config Completer.use_jedi = False"
   ]
  },
  {
   "cell_type": "code",
   "execution_count": 3,
   "id": "a540e68c-9fe7-4d5d-bcc8-9c4691e9af6a",
   "metadata": {},
   "outputs": [],
   "source": [
    "def get_rmsd(ref,target):\n",
    "    \n",
    "    r=rdFMCS.FindMCS([ref,target])\n",
    "    \n",
    "    a=ref.GetSubstructMatch(Chem.MolFromSmarts(r.smartsString))\n",
    "    b=target.GetSubstructMatch(Chem.MolFromSmarts(r.smartsString))   \n",
    "    amap=list(zip(a,b))\n",
    "    \n",
    "    distances=[]\n",
    "    for atomA, atomB in amap:\n",
    "        pos_A=ref.GetConformer().GetAtomPosition (atomA)\n",
    "        pos_B=target.GetConformer().GetAtomPosition (atomB)\n",
    "        coord_A=np.array((pos_A.x,pos_A.y,pos_A.z))\n",
    "        coord_B=np.array ((pos_B.x,pos_B.y,pos_B.z))\n",
    "        dist_numpy = np.linalg.norm(coord_A-coord_B)        \n",
    "        distances.append(dist_numpy)\n",
    "        \n",
    "    rmsd=math.sqrt(1/len(distances)*sum([i*i for i in distances]))\n",
    "    \n",
    "    return rmsd"
   ]
  },
  {
   "cell_type": "code",
   "execution_count": null,
   "id": "fc7b2f52-eb59-4ab8-9f19-0bbd32398296",
   "metadata": {},
   "outputs": [],
   "source": [
    "with open ('ALL_unique.smi','r') as smiles:\n",
    "    candidates=Chem.SDWriter('Candidates.sdf')\n",
    "    for index,line in enumerate(smiles.readlines()[:50]):\n",
    "        mol=Chem.MolFromSmiles(line)\n",
    "        mol=Chem.AddHs(mol)\n",
    "        AllChem.EmbedMolecule(mol)\n",
    "\n",
    "        constrain = Chem.SDMolSupplier('pyridine_anchor.sdf',sanitize=True)[0]\n",
    "\n",
    "        r = rdFMCS.FindMCS([mol, constrain])\n",
    "        a = mol.GetSubstructMatch(Chem.MolFromSmarts(r.smartsString))\n",
    "        b = constrain.GetSubstructMatch(Chem.MolFromSmarts(r.smartsString))\n",
    "        amap = list(zip(a, b))\n",
    "        coors = dict()\n",
    "\n",
    "        for a,b in amap:\n",
    "            coors[a] = constrain.GetConformer().GetAtomPosition(b)\n",
    "\n",
    "        w = Chem.SDWriter('_tmp_confs.sdf')\n",
    "\n",
    "        mol.UpdatePropertyCache()\n",
    "        constrain.UpdatePropertyCache()\n",
    "\n",
    "\n",
    "        confs = AllChem.EmbedMultipleConfs(mol,\n",
    "            numConfs=50,\n",
    "            coordMap=coors,\n",
    "            pruneRmsThresh=0.75,\n",
    "            useMacrocycleTorsions=True)\n",
    "\n",
    "        for element in confs:\n",
    "            Chem.SanitizeMol(mol)\n",
    "            rmsd = AllChem.GetBestRMS(mol,constrain,element,0,map=[list(amap)])\n",
    "            if rmsd<=float(0.5):\n",
    "                w.write(mol, confId=element)\n",
    "        w.close()\n",
    "        \n",
    "        !./smina -r {'7KX5_prep.pdb'} -l {'_tmp_confs.sdf'} -o {'_tmp_results.sdf'} --minimize >> {'smina.log'}\n",
    "        \n",
    "        results=Chem.SDMolSupplier('_tmp_results.sdf')\n",
    "        for res in results:\n",
    "            rmsd= get_rmsd(constrain,res)\n",
    "            if rmsd <= 1 and float(res.GetProp('minimizedAffinity')) < 0:\n",
    "                candidates.write(res)\n",
    "    \n",
    "    candidates.close()"
   ]
  },
  {
   "cell_type": "code",
   "execution_count": null,
   "id": "d373ae3b-3ece-4298-b640-e9e43dfa7a71",
   "metadata": {},
   "outputs": [],
   "source": []
  }
 ],
 "metadata": {
  "kernelspec": {
   "display_name": "Chem_3",
   "language": "python",
   "name": "chem_3"
  },
  "language_info": {
   "codemirror_mode": {
    "name": "ipython",
    "version": 3
   },
   "file_extension": ".py",
   "mimetype": "text/x-python",
   "name": "python",
   "nbconvert_exporter": "python",
   "pygments_lexer": "ipython3",
   "version": "3.9.7"
  }
 },
 "nbformat": 4,
 "nbformat_minor": 5
}
