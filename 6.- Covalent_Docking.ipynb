{
 "cells": [
  {
   "cell_type": "code",
   "execution_count": null,
   "id": "cb387356-ee5f-4182-92bb-505db3bd5232",
   "metadata": {},
   "outputs": [],
   "source": [
    "from pymol import cmd\n",
    "from rdkit import Chem\n",
    "from rdkit.Chem import Draw, AllChem\n",
    "import py3Dmol\n",
    "\n",
    "from openbabel import pybel\n",
    "\n",
    "import sys, os, random\n",
    "sys.path.insert(1, 'utilities/')\n",
    "\n",
    "from utils import get_inplace_rmsd, get_scaffold_based_conformers, getbox\n",
    "\n",
    "import warnings\n",
    "warnings.filterwarnings(\"ignore\")\n",
    "\n",
    "%config Completer.use_jedi = False"
   ]
  },
  {
   "cell_type": "code",
   "execution_count": null,
   "id": "73253f18-acc3-4745-970c-655a121ee5c1",
   "metadata": {},
   "outputs": [],
   "source": [
    "os.chdir('test/Covalent_Docking/')"
   ]
  },
  {
   "cell_type": "code",
   "execution_count": null,
   "id": "93d461c6-a2ec-4dcf-acac-c7fdd8eb03a0",
   "metadata": {},
   "outputs": [],
   "source": [
    "cmd.fetch(code='6ZRU',type='pdb1')\n",
    "cmd.select(name='Prot',selection='polymer.protein')\n",
    "cmd.select(name='Boceprevir',selection='resn U5G')\n",
    "cmd.save(filename='6ZRU_clean.pdb',format='pdb',selection='Prot')\n",
    "cmd.save(filename='Boceprevir_ref.sdf',format='sdf',selection='Boceprevir')\n",
    "cmd.delete('all')"
   ]
  },
  {
   "cell_type": "code",
   "execution_count": null,
   "id": "6efeb8fd-9ec1-4936-a1ad-e6c6537b4391",
   "metadata": {},
   "outputs": [],
   "source": [
    "view = py3Dmol.view()\n",
    "view.removeAllModels()\n",
    "view.setViewStyle({'style':'outline','color':'black','width':0.1})\n",
    "\n",
    "view.addModel(open('6ZRU_clean.pdb','r').read(),format='pdb')\n",
    "Prot=view.getModel()\n",
    "Prot.setStyle({'cartoon':{'arrows':True, 'tubes':True, 'style':'oval', 'color':'white'}})\n",
    "view.addSurface(py3Dmol.VDW,{'opacity':0.6,'color':'white'})\n",
    "\n",
    "view.addModel(open('Boceprevir_ref.sdf','r').read(),format='sdf')\n",
    "ref_m = view.getModel()\n",
    "ref_m.setStyle({},{'stick':{'colorscheme':'greenCarbon','radius':0.2}})\n",
    "\n",
    "view.zoomTo()\n",
    "view.show()"
   ]
  },
  {
   "cell_type": "code",
   "execution_count": null,
   "id": "6b9f7a9f-c1aa-48e6-889d-4b38b52ace79",
   "metadata": {},
   "outputs": [],
   "source": [
    "Boceprevir=Chem.MolFromSmiles('CC(C)(C)NC(=O)N[C@H](C(=O)N1C[C@H]2[C@@H]([C@H]1C(=O)N[C@@H](CC1CCC1)C(O)(S)C([NH3+])=O)C2(C)C)C(C)(C)C')\n",
    "Boceprevir=Chem.AddHs(Boceprevir)\n",
    "AllChem.EmbedMolecule(Boceprevir)\n",
    "Boceprevir"
   ]
  },
  {
   "cell_type": "code",
   "execution_count": null,
   "id": "c2564e1f-00e2-4525-9251-2ee07418e7eb",
   "metadata": {},
   "outputs": [],
   "source": [
    "writer=Chem.SDWriter('Boce_prep.sdf')\n",
    "writer.write(Boceprevir)\n",
    "writer.close()"
   ]
  },
  {
   "cell_type": "code",
   "execution_count": null,
   "id": "10ae129e-1f4b-4016-a10d-492af793dc04",
   "metadata": {},
   "outputs": [],
   "source": [
    "get_scaffold_based_conformers(smiles='CC(C)(C)NC(=O)N[C@H](C(=O)N1C[C@H]2[C@@H]([C@H]1C(=O)N[C@@H](CC1CCC1)C(O)(S)C([NH3+])=O)C2(C)C)C(C)(C)C',anchor='S_atom.sdf',num_confs=100,rmsd_threshold=0.75,output='Confs.sdf')"
   ]
  },
  {
   "cell_type": "code",
   "execution_count": null,
   "id": "d373ae3b-3ece-4298-b640-e9e43dfa7a71",
   "metadata": {},
   "outputs": [],
   "source": [
    "!../../bin/lepro_linux_x86 {'6ZRU_clean.pdb'}\n",
    "\n",
    "os.rename('pro.pdb','6ZRU_clean_H.pdb')"
   ]
  },
  {
   "cell_type": "code",
   "execution_count": null,
   "id": "c8ef6700-551a-4cd0-9d3f-26f08256e557",
   "metadata": {},
   "outputs": [],
   "source": [
    "confs=Chem.SDMolSupplier('Confs.sdf')"
   ]
  },
  {
   "cell_type": "code",
   "execution_count": null,
   "id": "9a970c1e-8d17-49ff-b94c-b8dd3af59148",
   "metadata": {},
   "outputs": [],
   "source": [
    "mol=confs[0]\n",
    "for atom in mol.GetAtoms():\n",
    "    atom.SetProp(\"atomNote\", str(atom.GetIdx()+1))\n",
    "\n",
    "Draw.MolToImage(mol, size=(800,500))"
   ]
  },
  {
   "cell_type": "code",
   "execution_count": null,
   "id": "3ebf4992-afed-4bd0-8c16-097917d7195f",
   "metadata": {},
   "outputs": [],
   "source": [
    "x_out=Chem.SDWriter('jfjdfj.sdf')\n",
    "for c in confs:\n",
    "    ed=AllChem.EditableMol(c)\n",
    "    ed.RemoveAtom(27)\n",
    "    x_out.write(ed.GetMol())\n",
    "x_out.close()"
   ]
  },
  {
   "cell_type": "code",
   "execution_count": null,
   "id": "1eafed09-294a-4092-8847-b0f3da2d9ea4",
   "metadata": {},
   "outputs": [],
   "source": [
    "cmd.load(filename='6ZRU_clean_H.pdb',format='pdb',object='prot') #Not needed but as reference of the system\n",
    "cmd.load(filename='Boceprevir_ref.sdf',format='sdf',object='lig')\n",
    "\n",
    "center,size=getbox(selection='resn Cys and resid 145',extending=6.0,software='vina')\n",
    "cmd.delete('all')\n",
    "print(center)\n",
    "print(size)"
   ]
  },
  {
   "cell_type": "code",
   "execution_count": null,
   "id": "0bca9115-94ee-4b45-9154-abcfa82fb05f",
   "metadata": {},
   "outputs": [],
   "source": [
    "\n",
    "!../../bin/smina -r {'6ZRU_clean_H.pdb'} -l {'Boce_prep.sdf'} -o {'Smina.sdf'} --center_x {center['center_x']} --center_y {center['center_y']} --center_z {center['center_z']} --size_x {size['size_x']} --size_y {size['size_y']} --size_z {size['size_z']} --exhaustiveness 8 --num_modes 5 --custom_scoring {'Cov_ScoreFunction.txt'}\n",
    "\n",
    "#candidates=Chem.SDWriter('Cans.sdf')\n",
    "#results=Chem.SDMolSupplier('Smina.sdf')\n",
    "#scaffold=Chem.SDMolSupplier('Adenine.sdf')[0]\n",
    "#for res in results:\n",
    "    #rmsd= get_inplace_rmsd (scaffold,res)\n",
    "    #if float(res.GetProp('minimizedAffinity')) < 0:\n",
    "        #res.SetProp('RMSDvsScaffold',str(rmsd))\n",
    "        #candidates.write(res)\n",
    "#candidates.close()"
   ]
  },
  {
   "cell_type": "code",
   "execution_count": null,
   "id": "09bec964-bd77-45a6-9b7c-9efbc776773a",
   "metadata": {},
   "outputs": [],
   "source": [
    "!../../bin/smina --print_atom_types"
   ]
  },
  {
   "cell_type": "code",
   "execution_count": null,
   "id": "bcedb178-67a5-441f-b175-8ea1cf66891e",
   "metadata": {},
   "outputs": [],
   "source": [
    "from rdkit.Chem import AllChem, Draw"
   ]
  },
  {
   "cell_type": "code",
   "execution_count": null,
   "id": "09b0f632-3684-4f18-ba7f-e8961d00cee3",
   "metadata": {},
   "outputs": [],
   "source": [
    "mol = Chem.MolFromSmiles('CC(C)(C)NC(=O)N[C@H](C(=O)N1C[C@H]2[C@@H]([C@H]1C(=O)N[C@@H](CC1CCC1)[C@@H](O)C([NH3+])=O)C2(C)C)C(C)(C)C',sanitize=True)\n",
    "#mol=Chem.AddHs(mol)\n",
    "AllChem.EmbedMolecule(mol)\n",
    "mol"
   ]
  },
  {
   "cell_type": "code",
   "execution_count": null,
   "id": "31cd2375-eeb1-4cfe-b535-3276a9a6835e",
   "metadata": {},
   "outputs": [],
   "source": [
    "for atom in mol.GetAtoms():\n",
    "    atom.SetProp(\"atomNote\", str(atom.GetIdx()+1))\n",
    "\n",
    "Draw.MolToImage(mol, size=(800,500))"
   ]
  },
  {
   "cell_type": "code",
   "execution_count": null,
   "id": "77ebcc2f-2563-4ad3-bc2b-af8071255523",
   "metadata": {},
   "outputs": [],
   "source": [
    "f=Chem.rdGeometry.Point3D(0,0,0)"
   ]
  },
  {
   "cell_type": "code",
   "execution_count": null,
   "id": "85409ee2-2ea8-4236-883f-b2d864a8ea6d",
   "metadata": {},
   "outputs": [],
   "source": [
    "list(f)"
   ]
  },
  {
   "cell_type": "code",
   "execution_count": null,
   "id": "925713e6-69a2-4c00-b69d-50219d69b622",
   "metadata": {},
   "outputs": [],
   "source": [
    "coors = dict()\n",
    "\n",
    "for a,b in amap:\n",
    "    coors[a] = constrain.GetConformer().GetAtomPosition(b)\n",
    "\n",
    "w = Chem.SDWriter(output)\n",
    "\n",
    "mol.UpdatePropertyCache()\n",
    "constrain.UpdatePropertyCache()\n",
    "\n",
    "confs = AllChem.EmbedMultipleConfs(mol,\n",
    "    numConfs=int(num_confs),\n",
    "    coordMap=coors,\n",
    "    pruneRmsThresh=0.75,\n",
    "    useExpTorsionAnglePrefs=True,\n",
    "    useBasicKnowledge=True)"
   ]
  },
  {
   "cell_type": "code",
   "execution_count": null,
   "id": "cebc5190-5b02-4ca7-b9a8-5566a403cce1",
   "metadata": {},
   "outputs": [],
   "source": [
    "with open('ddd.smiles','r') as mols:\n",
    "    for line in mols.readlines():\n",
    "        mol=Chem.MolFromSmiles(line)\n",
    "        print(mol)"
   ]
  },
  {
   "cell_type": "code",
   "execution_count": null,
   "id": "8ff5adfe-ee7e-449f-adcc-1c2ba7d9c53f",
   "metadata": {},
   "outputs": [],
   "source": []
  }
 ],
 "metadata": {
  "kernelspec": {
   "display_name": "Jupyter_Dock",
   "language": "python",
   "name": "jupyter_dock"
  },
  "language_info": {
   "codemirror_mode": {
    "name": "ipython",
    "version": 3
   },
   "file_extension": ".py",
   "mimetype": "text/x-python",
   "name": "python",
   "nbconvert_exporter": "python",
   "pygments_lexer": "ipython3",
   "version": "3.8.12"
  }
 },
 "nbformat": 4,
 "nbformat_minor": 5
}
